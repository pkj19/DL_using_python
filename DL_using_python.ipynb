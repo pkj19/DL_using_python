{
  "nbformat": 4,
  "nbformat_minor": 0,
  "metadata": {
    "colab": {
      "name": "Project.ipynb",
      "provenance": [],
      "collapsed_sections": []
    },
    "kernelspec": {
      "name": "python3",
      "display_name": "Python 3"
    }
  },
  "cells": [
    {
      "cell_type": "code",
      "metadata": {
        "id": "9bqXewZfMUhs"
      },
      "source": [
        "import tensorflow as tf\r\n",
        "import numpy as np\r\n",
        "\r\n",
        "from tensorflow.keras.datasets import fashion_mnist\r\n",
        "\r\n",
        "data = tf.keras.datasets.fashion_mnist.load_data()\r\n"
      ],
      "execution_count": 107,
      "outputs": []
    },
    {
      "cell_type": "code",
      "metadata": {
        "id": "zbtEQfmCRUif"
      },
      "source": [
        "(X_train, y_train), (X_test, y_test) = tf.keras.datasets.fashion_mnist.load_data()"
      ],
      "execution_count": 108,
      "outputs": []
    },
    {
      "cell_type": "code",
      "metadata": {
        "colab": {
          "base_uri": "https://localhost:8080/"
        },
        "id": "FSkkqAdvRZ1g",
        "outputId": "74401783-d7cb-4963-f38e-2cf2bff06c32"
      },
      "source": [
        "X_train[0].shape"
      ],
      "execution_count": 109,
      "outputs": [
        {
          "output_type": "execute_result",
          "data": {
            "text/plain": [
              "(28, 28)"
            ]
          },
          "metadata": {
            "tags": []
          },
          "execution_count": 109
        }
      ]
    },
    {
      "cell_type": "code",
      "metadata": {
        "id": "4E_yqv8VRxlb"
      },
      "source": [
        "X_train = X_train.reshape((X_train.shape[0], 28*28)).astype('float32')\r\n",
        "X_test = X_test.reshape((X_test.shape[0], 28*28)).astype('float32')"
      ],
      "execution_count": 110,
      "outputs": []
    },
    {
      "cell_type": "code",
      "metadata": {
        "id": "OwXuPw-sRzHm"
      },
      "source": [
        "X_train = X_train / 255\r\n",
        "X_test = X_test / 255"
      ],
      "execution_count": 111,
      "outputs": []
    },
    {
      "cell_type": "code",
      "metadata": {
        "id": "acmKAhdqR2Mw"
      },
      "source": [
        "from keras.utils import np_utils\r\n",
        "\r\n",
        "y_train = np_utils.to_categorical(y_train)\r\n",
        "y_test = np_utils.to_categorical(y_test)\r\n",
        "num_classes = y_test.shape[1]"
      ],
      "execution_count": 112,
      "outputs": []
    },
    {
      "cell_type": "code",
      "metadata": {
        "id": "a_ZUZe2oR7vR"
      },
      "source": [
        "from keras.models import Sequential\r\n",
        "from keras.layers import Dense\r\n",
        "from keras.layers import Dropout"
      ],
      "execution_count": 113,
      "outputs": []
    },
    {
      "cell_type": "code",
      "metadata": {
        "id": "LWp1Y7z0R-bv"
      },
      "source": [
        "model = Sequential()\r\n",
        "model.add(Dense(32, input_dim = 28*28, activation='relu'))  \r\n",
        "model.add(Dense(64, activation='relu'))\r\n",
        "model.add(Dense(128, activation='relu'))   \r\n",
        "model.add(Dense(10, activation='softmax'))  ## output layer, 10 = number of classes"
      ],
      "execution_count": 114,
      "outputs": []
    },
    {
      "cell_type": "code",
      "metadata": {
        "id": "4yvYhHzsSBK6"
      },
      "source": [
        "model.compile(loss='categorical_crossentropy', optimizer='adam', metrics=['accuracy'])"
      ],
      "execution_count": 115,
      "outputs": []
    },
    {
      "cell_type": "code",
      "metadata": {
        "colab": {
          "base_uri": "https://localhost:8080/"
        },
        "id": "ekaRZOUGSD86",
        "outputId": "ad1af7a0-cf8d-48d3-b39d-b8ecab673834"
      },
      "source": [
        "model.summary()"
      ],
      "execution_count": 116,
      "outputs": [
        {
          "output_type": "stream",
          "text": [
            "Model: \"sequential_11\"\n",
            "_________________________________________________________________\n",
            "Layer (type)                 Output Shape              Param #   \n",
            "=================================================================\n",
            "dense_38 (Dense)             (None, 32)                25120     \n",
            "_________________________________________________________________\n",
            "dense_39 (Dense)             (None, 64)                2112      \n",
            "_________________________________________________________________\n",
            "dense_40 (Dense)             (None, 128)               8320      \n",
            "_________________________________________________________________\n",
            "dense_41 (Dense)             (None, 10)                1290      \n",
            "=================================================================\n",
            "Total params: 36,842\n",
            "Trainable params: 36,842\n",
            "Non-trainable params: 0\n",
            "_________________________________________________________________\n"
          ],
          "name": "stdout"
        }
      ]
    },
    {
      "cell_type": "code",
      "metadata": {
        "colab": {
          "base_uri": "https://localhost:8080/"
        },
        "id": "RcXRGdAMSGdQ",
        "outputId": "4931652e-d01e-4686-d289-2f87cb7719ec"
      },
      "source": [
        "model.fit(X_train, y_train, validation_split=0.2 , epochs=30, batch_size=200)"
      ],
      "execution_count": 117,
      "outputs": [
        {
          "output_type": "stream",
          "text": [
            "Epoch 1/30\n",
            "240/240 [==============================] - 1s 4ms/step - loss: 1.0775 - accuracy: 0.6400 - val_loss: 0.4644 - val_accuracy: 0.8363\n",
            "Epoch 2/30\n",
            "240/240 [==============================] - 1s 3ms/step - loss: 0.4563 - accuracy: 0.8404 - val_loss: 0.4207 - val_accuracy: 0.8534\n",
            "Epoch 3/30\n",
            "240/240 [==============================] - 1s 3ms/step - loss: 0.4072 - accuracy: 0.8561 - val_loss: 0.4191 - val_accuracy: 0.8507\n",
            "Epoch 4/30\n",
            "240/240 [==============================] - 1s 3ms/step - loss: 0.3824 - accuracy: 0.8620 - val_loss: 0.3753 - val_accuracy: 0.8649\n",
            "Epoch 5/30\n",
            "240/240 [==============================] - 1s 3ms/step - loss: 0.3521 - accuracy: 0.8741 - val_loss: 0.3804 - val_accuracy: 0.8640\n",
            "Epoch 6/30\n",
            "240/240 [==============================] - 1s 3ms/step - loss: 0.3408 - accuracy: 0.8760 - val_loss: 0.3601 - val_accuracy: 0.8706\n",
            "Epoch 7/30\n",
            "240/240 [==============================] - 1s 3ms/step - loss: 0.3254 - accuracy: 0.8794 - val_loss: 0.3828 - val_accuracy: 0.8620\n",
            "Epoch 8/30\n",
            "240/240 [==============================] - 1s 3ms/step - loss: 0.3183 - accuracy: 0.8846 - val_loss: 0.3442 - val_accuracy: 0.8779\n",
            "Epoch 9/30\n",
            "240/240 [==============================] - 1s 3ms/step - loss: 0.3014 - accuracy: 0.8878 - val_loss: 0.3414 - val_accuracy: 0.8781\n",
            "Epoch 10/30\n",
            "240/240 [==============================] - 1s 3ms/step - loss: 0.2979 - accuracy: 0.8913 - val_loss: 0.3551 - val_accuracy: 0.8736\n",
            "Epoch 11/30\n",
            "240/240 [==============================] - 1s 3ms/step - loss: 0.2905 - accuracy: 0.8929 - val_loss: 0.3380 - val_accuracy: 0.8768\n",
            "Epoch 12/30\n",
            "240/240 [==============================] - 1s 3ms/step - loss: 0.2754 - accuracy: 0.8980 - val_loss: 0.3299 - val_accuracy: 0.8809\n",
            "Epoch 13/30\n",
            "240/240 [==============================] - 1s 3ms/step - loss: 0.2781 - accuracy: 0.8947 - val_loss: 0.3320 - val_accuracy: 0.8802\n",
            "Epoch 14/30\n",
            "240/240 [==============================] - 1s 4ms/step - loss: 0.2700 - accuracy: 0.8986 - val_loss: 0.3247 - val_accuracy: 0.8842\n",
            "Epoch 15/30\n",
            "240/240 [==============================] - 1s 3ms/step - loss: 0.2608 - accuracy: 0.9024 - val_loss: 0.3267 - val_accuracy: 0.8848\n",
            "Epoch 16/30\n",
            "240/240 [==============================] - 1s 3ms/step - loss: 0.2529 - accuracy: 0.9067 - val_loss: 0.3241 - val_accuracy: 0.8844\n",
            "Epoch 17/30\n",
            "240/240 [==============================] - 1s 3ms/step - loss: 0.2524 - accuracy: 0.9069 - val_loss: 0.3345 - val_accuracy: 0.8813\n",
            "Epoch 18/30\n",
            "240/240 [==============================] - 1s 3ms/step - loss: 0.2449 - accuracy: 0.9089 - val_loss: 0.3330 - val_accuracy: 0.8838\n",
            "Epoch 19/30\n",
            "240/240 [==============================] - 1s 3ms/step - loss: 0.2418 - accuracy: 0.9092 - val_loss: 0.3383 - val_accuracy: 0.8807\n",
            "Epoch 20/30\n",
            "240/240 [==============================] - 1s 3ms/step - loss: 0.2360 - accuracy: 0.9105 - val_loss: 0.3325 - val_accuracy: 0.8849\n",
            "Epoch 21/30\n",
            "240/240 [==============================] - 1s 3ms/step - loss: 0.2307 - accuracy: 0.9131 - val_loss: 0.3327 - val_accuracy: 0.8861\n",
            "Epoch 22/30\n",
            "240/240 [==============================] - 1s 3ms/step - loss: 0.2278 - accuracy: 0.9140 - val_loss: 0.3381 - val_accuracy: 0.8846\n",
            "Epoch 23/30\n",
            "240/240 [==============================] - 1s 3ms/step - loss: 0.2227 - accuracy: 0.9168 - val_loss: 0.3407 - val_accuracy: 0.8858\n",
            "Epoch 24/30\n",
            "240/240 [==============================] - 1s 3ms/step - loss: 0.2170 - accuracy: 0.9171 - val_loss: 0.3389 - val_accuracy: 0.8844\n",
            "Epoch 25/30\n",
            "240/240 [==============================] - 1s 3ms/step - loss: 0.2183 - accuracy: 0.9167 - val_loss: 0.3354 - val_accuracy: 0.8853\n",
            "Epoch 26/30\n",
            "240/240 [==============================] - 1s 3ms/step - loss: 0.2095 - accuracy: 0.9227 - val_loss: 0.3882 - val_accuracy: 0.8725\n",
            "Epoch 27/30\n",
            "240/240 [==============================] - 1s 3ms/step - loss: 0.2157 - accuracy: 0.9185 - val_loss: 0.3440 - val_accuracy: 0.8854\n",
            "Epoch 28/30\n",
            "240/240 [==============================] - 1s 3ms/step - loss: 0.2064 - accuracy: 0.9219 - val_loss: 0.3454 - val_accuracy: 0.8859\n",
            "Epoch 29/30\n",
            "240/240 [==============================] - 1s 3ms/step - loss: 0.2040 - accuracy: 0.9226 - val_loss: 0.3542 - val_accuracy: 0.8850\n",
            "Epoch 30/30\n",
            "240/240 [==============================] - 1s 3ms/step - loss: 0.2021 - accuracy: 0.9242 - val_loss: 0.3536 - val_accuracy: 0.8823\n"
          ],
          "name": "stdout"
        },
        {
          "output_type": "execute_result",
          "data": {
            "text/plain": [
              "<tensorflow.python.keras.callbacks.History at 0x7fc5bc76e5f8>"
            ]
          },
          "metadata": {
            "tags": []
          },
          "execution_count": 117
        }
      ]
    },
    {
      "cell_type": "code",
      "metadata": {
        "colab": {
          "base_uri": "https://localhost:8080/"
        },
        "id": "FJFqa_OFSKjW",
        "outputId": "ba153dfb-dcfb-4d57-9807-f8a39d0ed376"
      },
      "source": [
        "scores = model.evaluate(X_test, y_test)\r\n",
        "print(scores)"
      ],
      "execution_count": 118,
      "outputs": [
        {
          "output_type": "stream",
          "text": [
            "313/313 [==============================] - 1s 1ms/step - loss: 0.3776 - accuracy: 0.8748\n",
            "[0.37762144207954407, 0.8748000264167786]\n"
          ],
          "name": "stdout"
        }
      ]
    }
  ]
}